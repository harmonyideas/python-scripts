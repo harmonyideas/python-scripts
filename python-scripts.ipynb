{
 "cells": [
  {
   "cell_type": "markdown",
   "metadata": {},
   "source": [
    " BubbleSort Animation"
   ]
  },
  {
   "cell_type": "code",
   "execution_count": 12,
   "metadata": {},
   "outputs": [
    {
     "data": {
      "image/png": "[encoded data removed]",
      "text/plain": [
       "<matplotlib.figure.Figure at 0x7f2aa81fd978>"
      ]
     },
     "metadata": {},
     "output_type": "display_data"
    },
    {
     "data": {
      "text/plain": [
       "<function matplotlib.pyplot.show>"
      ]
     },
     "execution_count": 12,
     "metadata": {},
     "output_type": "execute_result"
    }
   ],
   "source": [
    "%matplotlib inline\n",
    "\n",
    "import matplotlib.pyplot as plt\n",
    "import random\n",
    "import numpy as np\n",
    "\n",
    "x_values = random.sample(range(25), 25)\n",
    "y_values = np.arange(len(x_values))\n",
    "plt.title('Bubble Sort Algorithm')\n",
    "ax = plt.bar(y_values, x_values, align='center', color='g', edgecolor='w')\n",
    "\n",
    "swap = True\n",
    "numpasses = len(x_values) - 1\n",
    "while numpasses > 0 and swap:\n",
    "    swap = False\n",
    "    # Adjust individual graph bars to proper height \n",
    "    for i in range(numpasses):\n",
    "        plt.pause(0.1)\n",
    "        if x_values[i] > x_values[i + 1]:\n",
    "            swap = True\n",
    "            ax[i].set_height(x_values[i + 1])\n",
    "            ax[i + 1].set_height(x_values[i])\n",
    "            x_values[i], x_values[i + 1] = x_values[i + 1], x_values[i]\n",
    "    numpasses = numpasses-1\n",
    "\n",
    "# Window will close without this\n",
    "plt.show"
   ]
  },
  {
   "cell_type": "markdown",
   "metadata": {},
   "source": [
    "BubbleSort function"
   ]
  },
  {
   "cell_type": "code",
   "execution_count": 23,
   "metadata": {},
   "outputs": [
    {
     "name": "stdout",
     "output_type": "stream",
     "text": [
      "Before sort\n",
      "[8, 9, 0, 6, 1, 2, 5, 7, 3, 4]\n",
      "After sort\n",
      "[0, 1, 2, 3, 4, 5, 6, 7, 8, 9]\n"
     ]
    }
   ],
   "source": [
    "import random\n",
    "\n",
    "\n",
    "def bubblesort_short(a_list):\n",
    "    swap = True\n",
    "    numpasses = len(a_list) - 1\n",
    "    while numpasses > 0 and swap:\n",
    "        swap = False\n",
    "        for i in range(numpasses):\n",
    "            if a_list[i] > a_list[i + 1]:\n",
    "                swap = True\n",
    "                a_list[i], a_list[i+1] = a_list[i+1], a_list[i]\n",
    "        numpasses = numpasses - 1\n",
    "    return a_list\n",
    "\n",
    "\n",
    "a_list = random.sample(range(10), 10)\n",
    "\n",
    "\n",
    "print(\"Before sort\\n\" + str(a_list) + \"\\nAfter sort\\n\" + str(bubblesort_short(a_list)))"
   ]
  },
  {
   "cell_type": "markdown",
   "metadata": {},
   "source": [
    "BubbleSort - Improved"
   ]
  },
  {
   "cell_type": "code",
   "execution_count": 24,
   "metadata": {},
   "outputs": [
    {
     "name": "stdout",
     "output_type": "stream",
     "text": [
      "Before sort\n",
      "[8, 5, 0, 3, 4, 1, 6, 7, 9, 2]\n",
      "After sort\n",
      "[0, 1, 2, 3, 4, 5, 6, 7, 8, 9]\n"
     ]
    }
   ],
   "source": [
    "import random\n",
    "\n",
    "def bubble_sort(a_list):\n",
    "    for passnum in range(len(a_list)-1, 0, -1):\n",
    "        for i in range(passnum):\n",
    "            if  a_list[i] > a_list[i + 1]:\n",
    "                a_list[i], a_list[i+1] = a_list[i+1], a_list[i]\n",
    "    return a_list\n",
    "\n",
    "\n",
    "a_list = random.sample(range(10), 10)\n",
    "print(\"Before sort\\n\" + str(a_list) + \"\\nAfter sort\\n\" + str(bubblesort_short(a_list)))"
   ]
  },
  {
   "cell_type": "markdown",
   "metadata": {},
   "source": [
    "Find most common integer in string"
   ]
  },
  {
   "cell_type": "code",
   "execution_count": 26,
   "metadata": {},
   "outputs": [
    {
     "name": "stdout",
     "output_type": "stream",
     "text": [
      "[7]\n"
     ]
    }
   ],
   "source": [
    "integer_list = [1,1,2,3,4,4,4,5,6,7,7,7,7,7,8,9,10]\n",
    "integer_counter = {}\n",
    "\n",
    "for number in integer_list:\n",
    "    if number in integer_counter:\n",
    "        integer_counter[number] += 1\n",
    "    else:\n",
    "        integer_counter[number] = 1\n",
    "\n",
    "top_integers = sorted(integer_counter, key=integer_counter.get, reverse=True)\n",
    "\n",
    "\n",
    "print(top_integers[:1])"
   ]
  },
  {
   "cell_type": "markdown",
   "metadata": {},
   "source": [
    "Generic class for a deck of cards"
   ]
  },
  {
   "cell_type": "code",
   "execution_count": 40,
   "metadata": {},
   "outputs": [
    {
     "name": "stdout",
     "output_type": "stream",
     "text": [
      "['6d', 'Kh', '6h', '4h', '4d', '8c', '2s', '3h', '8h', 'Kc', 'As', 'Jc', 'Js', 'Jh', '7s', 'Kd', '4s', 'Ah', '6c', '10h', '9d', '2c', 'Qs', '2h', '10d', '2d', 'Jd', '7d', '5d', '8d', '7h', '9s', '6s', '3d', '9c', '8s', 'Qh', 'Qc', '3c', '10c', '5s', '9h', '4c', '5c', '5h', '7c', 'Qd', 'Ad', '3s', '10s', 'Ks', 'Ac']\n",
      "Number of cards in deck: 52\n"
     ]
    }
   ],
   "source": [
    "import random\n",
    "import itertools\n",
    "\n",
    "\n",
    "class MyCards(object):\n",
    "\n",
    "    def __init__(self):\n",
    "        self.value = ('A', '2', '3', '4', '5', '6', '7',\n",
    "                      '8', '9', '10', 'J', 'Q', 'K')\n",
    "        self.rank = ('cdhs')\n",
    "        self.deck = [(A + B) for A in self.value for B in self.rank]\n",
    "\n",
    "    def join(self, iterable, sep=' '):\n",
    "        \"\"\"Join the items in iterable, mapping each to a string first.\"\"\"\n",
    "        return sep.join(map(str, iterable))\n",
    "\n",
    "    def card_combinations(self, cards, n):\n",
    "        return {self.join(combos)\n",
    "                for combos in itertools.combinations(cards, n)}\n",
    "\n",
    "    def pick_random_cards(self, counter):\n",
    "        return random.sample(self.deck, abs(counter))\n",
    "\n",
    "    def shuffle_cards(self, repeat=1):\n",
    "        for x in range(0, abs(repeat)):\n",
    "            random.shuffle(self.deck)\n",
    "\n",
    "    def print_cards(self):\n",
    "        print(self.deck)\n",
    "\n",
    "\n",
    "cards = MyCards()\n",
    "cards.shuffle_cards(1)\n",
    "cards.print_cards()\n",
    "\n",
    "print(\"Number of cards in deck: \" + str(len(cards.deck)))"
   ]
  },
  {
   "cell_type": "markdown",
   "metadata": {},
   "source": [
    "Fibonacci Sequence"
   ]
  },
  {
   "cell_type": "code",
   "execution_count": 93,
   "metadata": {},
   "outputs": [
    {
     "name": "stdout",
     "output_type": "stream",
     "text": [
      "7.97989996499382e-05\n"
     ]
    }
   ],
   "source": [
    "import timeit\n",
    "\n",
    "def fib(n, index = {0: 0, 1: 1}):\n",
    "    if n < 2:\n",
    "        return n\n",
    "\n",
    "    if n not in index:\n",
    "        index[n] = fib(n - 1, index) + fib(n - 2, index)\n",
    "    return index[n]\n",
    "\n",
    "timer = timeit.Timer(stmt='fib(100)', setup=\"from __main__ import fib\")\n",
    "print(timer.timeit(number=1))\n"
   ]
  },
  {
   "cell_type": "markdown",
   "metadata": {},
   "source": [
    "Fibonacci Sequence - Alternative to recursion"
   ]
  },
  {
   "cell_type": "code",
   "execution_count": 92,
   "metadata": {},
   "outputs": [
    {
     "name": "stdout",
     "output_type": "stream",
     "text": [
      "2.0930001483066007e-06\n"
     ]
    }
   ],
   "source": [
    "def fib(n):\n",
    "    i = 0\n",
    "    first=0\n",
    "    last = 1\n",
    "\n",
    "    while i < n:\n",
    "        yield last\n",
    "        first, last = last, first + last\n",
    "        i += 1\n",
    "\n",
    "timer = timeit.Timer(stmt='fib(90000000000000000)', setup=\"from __main__ import fib\")\n",
    "print(timer.timeit(number=1))   "
   ]
  },
  {
   "cell_type": "markdown",
   "metadata": {},
   "source": [
    "Fibonacci Sequence - faster"
   ]
  },
  {
   "cell_type": "code",
   "execution_count": 98,
   "metadata": {},
   "outputs": [
    {
     "name": "stdout",
     "output_type": "stream",
     "text": [
      "0.00019152900040353416\n"
     ]
    }
   ],
   "source": [
    "import timeit\n",
    "\n",
    "def fib(n, index = {0: 0, 1: 1}):\n",
    "    if n < 2:\n",
    "        return n\n",
    "\n",
    "    if n not in index:\n",
    "        index[n] = fib(n - 1, index) + fib(n - 2, index)\n",
    "    return index[n]\n",
    "\n",
    "timer = timeit.Timer(stmt='fib(100)', setup=\"from __main__ import fib\")\n",
    "print(timer.timeit(number=1))"
   ]
  },
  {
   "cell_type": "markdown",
   "metadata": {},
   "source": [
    "Hash Table"
   ]
  },
  {
   "cell_type": "code",
   "execution_count": 103,
   "metadata": {},
   "outputs": [
    {
     "name": "stdout",
     "output_type": "stream",
     "text": [
      "Pong\n",
      "Empty\n"
     ]
    }
   ],
   "source": [
    "class MyHashTable(object):\n",
    "    def __init__(self, size):\n",
    "        self.my_table = ['Empty'] * size\n",
    "        self.size = size\n",
    "\n",
    "    def djb2_hash(self, s):\n",
    "        hash = 0\n",
    "        for x in str(s):\n",
    "            hash = ((hash * 33) ^ ord(x))\n",
    "        return hash\n",
    "\n",
    "    def insert(self, key, data):\n",
    "        key = (self.djb2_hash(key)) % self.size\n",
    "        self.my_table[(key)] = data\n",
    "\n",
    "    def getitem(self, key):\n",
    "        key = self.djb2_hash(key) % self.size\n",
    "        return self.my_table[key]\n",
    "\n",
    "    def delete(self, key):\n",
    "            key = self.djb2_hash(key) % self.size\n",
    "            self.my_table[(key)] = 'Empty'\n",
    "\n",
    "\n",
    "hash_table = MyHashTable(100)\n",
    "hash_table.insert('Ping', 'Pong')\n",
    "print(hash_table.getitem('Ping'))\n",
    "hash_table.delete('Ping')\n",
    "print(hash_table.getitem('Ping'))"
   ]
  },
  {
   "cell_type": "markdown",
   "metadata": {},
   "source": [
    "Multiplication Table"
   ]
  },
  {
   "cell_type": "code",
   "execution_count": 108,
   "metadata": {},
   "outputs": [
    {
     "name": "stdout",
     "output_type": "stream",
     "text": [
      "\t[1]\t[2]\t[3]\t[4]\t[5]\t[6]\t[7]\t[8]\t[9]\t[10]\t[11]\t[12]\n",
      "[1]\t1\t2\t3\t4\t5\t6\t7\t8\t9\t10\t11\t12\n",
      " \n",
      "[2]\t2\t4\t6\t8\t10\t12\t14\t16\t18\t20\t22\t24\n",
      " \n",
      "[3]\t3\t6\t9\t12\t15\t18\t21\t24\t27\t30\t33\t36\n",
      " \n",
      "[4]\t4\t8\t12\t16\t20\t24\t28\t32\t36\t40\t44\t48\n",
      " \n",
      "[5]\t5\t10\t15\t20\t25\t30\t35\t40\t45\t50\t55\t60\n",
      " \n",
      "[6]\t6\t12\t18\t24\t30\t36\t42\t48\t54\t60\t66\t72\n",
      " \n",
      "[7]\t7\t14\t21\t28\t35\t42\t49\t56\t63\t70\t77\t84\n",
      " \n",
      "[8]\t8\t16\t24\t32\t40\t48\t56\t64\t72\t80\t88\t96\n",
      " \n",
      "[9]\t9\t18\t27\t36\t45\t54\t63\t72\t81\t90\t99\t108\n",
      " \n",
      "[10]\t10\t20\t30\t40\t50\t60\t70\t80\t90\t100\t110\t120\n",
      " \n",
      "[11]\t11\t22\t33\t44\t55\t66\t77\t88\t99\t110\t121\t132\n",
      " \n",
      "[12]\t12\t24\t36\t48\t60\t72\t84\t96\t108\t120\t132\t144\n",
      " "
     ]
    }
   ],
   "source": [
    "def multiplication_table():\n",
    "\n",
    "    colheaders = ['1', '2', '3', '4', '5', '6',\n",
    "                  '7', '8', '9', '10', '11', '12']\n",
    "\n",
    "    rows = range(1, 13)\n",
    "    cols = range(1, 13)\n",
    "\n",
    "    for c in colheaders:\n",
    "        print(\"\\t\" + \"[\" + c + \"]\", end=\"\")\n",
    "\n",
    "    for r in rows:\n",
    "        print(\"\\n\" + \"[\" + str(r) + \"]\", end=\"\")\n",
    "        for c in cols:\n",
    "            print (\"\\t\" + str(r * c), end=\"\")\n",
    "        print (\"\\n\", end=\" \")\n",
    "\n",
    "\n",
    "multiplication_table()"
   ]
  },
  {
   "cell_type": "markdown",
   "metadata": {},
   "source": [
    "Pascal's Triangle"
   ]
  },
  {
   "cell_type": "code",
   "execution_count": 109,
   "metadata": {},
   "outputs": [
    {
     "name": "stdout",
     "output_type": "stream",
     "text": [
      "          1 \n",
      "          1 1 \n",
      "         1 2 1 \n",
      "        1 3 3 1 \n",
      "       1 4 6 4 1 \n",
      "      1 5 10 10 5 1 \n",
      "     1 6 15 20 15 6 1 \n",
      "    1 7 21 35 35 21 7 1 \n",
      "   1 8 28 56 70 56 28 8 1 \n",
      "  1 9 36 84 126 126 84 36 9 1 \n",
      " "
     ]
    }
   ],
   "source": [
    "def pascals_triangle():\n",
    "\n",
    "    rows = range(0, 10)\n",
    "    coef = 1\n",
    "\n",
    "    for r in rows:\n",
    "        for z in range(0, len(rows) - r):\n",
    "            print (\"\", end=\" \")\n",
    "        for x in range(0, r + 1):\n",
    "            if (x == 0 or r == 0):\n",
    "                coef = 1\n",
    "            else:\n",
    "                coef = coef * (r - x + 1) / x\n",
    "            print (int(coef), end=\" \")\n",
    "        print (\"\\n\", end=\" \")\n",
    "\n",
    "pascals_triangle()\n"
   ]
  },
  {
   "cell_type": "markdown",
   "metadata": {},
   "source": [
    "Profit Loss Analysis"
   ]
  },
  {
   "cell_type": "code",
   "execution_count": 110,
   "metadata": {},
   "outputs": [
    {
     "data": {
      "image/png": "[encoded data removed]",
      "text/plain": [
       "<matplotlib.figure.Figure at 0x7f2a82f71d30>"
      ]
     },
     "metadata": {},
     "output_type": "display_data"
    }
   ],
   "source": [
    "import matplotlib.patches as mpatches\n",
    "import matplotlib.pyplot as plt\n",
    "import numpy as np\n",
    "\n",
    "plt.style.use(['ggplot'])\n",
    "fig, (ax) = plt.subplots()\n",
    "\n",
    "# Widgets Produced\n",
    "x_values = [x for x in range(100, 600, 100)]\n",
    "# C(x) = (variable costs) + (fixed costs) = 20x + 10000\n",
    "y_values = [((20 * x) + 10000) for x in range(100, 600, 100)]\n",
    "# R(x) = (widgets * price)  $80/widget\n",
    "revenue = [(80 * x) for x in range(100, 600, 100)]\n",
    "\n",
    "z1 = np.array(y_values)\n",
    "\n",
    "ax.plot(x_values, y_values, color='r')\n",
    "ax.fill_between(x_values, revenue, y_values,\n",
    "                where=z1 < revenue, color='g', alpha=0.5, interpolate=True)\n",
    "\n",
    "ax.plot(x_values, revenue, color='g')\n",
    "ax.fill_between(x_values, revenue, y_values,\n",
    "                where=z1 > revenue, color='r', alpha=0.5, interpolate=True)\n",
    "\n",
    "# R(x) = C(x) (total reveue = total costs)\n",
    "ax.annotate('Break even', xy=(166.66, 13333), xytext=(95, 20000),\n",
    "            arrowprops=dict(facecolor='black', shrink=0.05),)\n",
    "\n",
    "red_patch = mpatches.Patch(color='red', label='Loss')\n",
    "green_patch = mpatches.Patch(color='green', label='Gain')\n",
    "\n",
    "plt.legend(handles=[red_patch, green_patch], loc=4)\n",
    "plt.title('Business: Profit and loss analysis')\n",
    "plt.ylabel('Fixed Cost')\n",
    "plt.xlabel('Widgets Produced')\n",
    "plt.show()\n"
   ]
  },
  {
   "cell_type": "markdown",
   "metadata": {},
   "source": [
    "Reverse a string"
   ]
  },
  {
   "cell_type": "code",
   "execution_count": 115,
   "metadata": {},
   "outputs": [
    {
     "name": "stdout",
     "output_type": "stream",
     "text": [
      "mroW lateM yM etA lwO .rM\n"
     ]
    }
   ],
   "source": [
    "str1 = \"Mr. Owl Ate My Metal Worm\"\n",
    "\n",
    "\n",
    "def reverse_string(string):\n",
    "    return string[::-1]\n",
    "\n",
    "\n",
    "print(reverse_string(str1))"
   ]
  },
  {
   "cell_type": "markdown",
   "metadata": {},
   "source": [
    "Print Squares"
   ]
  },
  {
   "cell_type": "code",
   "execution_count": 125,
   "metadata": {},
   "outputs": [
    {
     "name": "stdout",
     "output_type": "stream",
     "text": [
      "[0, 1, 4, 9, 16, 25, 36, 49, 64, 81, 100, 121, 144, 169, 196, 225, 256, 289, 324, 361, 400, 441, 484, 529, 576]\n"
     ]
    }
   ],
   "source": [
    "import random\n",
    "\n",
    "def square_list(my_list):\n",
    "    squared_list = [ i**2 for i in my_list ]\n",
    "    print(squared_list)\n",
    "\n",
    "numbers = list(range(0,25))\n",
    "square_list(numbers)"
   ]
  },
  {
   "cell_type": "code",
   "execution_count": null,
   "metadata": {},
   "outputs": [],
   "source": [
    "Print temperature conversion chart"
   ]
  },
  {
   "cell_type": "code",
   "execution_count": 134,
   "metadata": {},
   "outputs": [
    {
     "name": "stdout",
     "output_type": "stream",
     "text": [
      " Farenheit       Celsius     \n",
      "     0      -17.77777777777778\n",
      "     20     -6.666666666666667\n",
      "     40     4.444444444444445\n",
      "     60     15.555555555555555\n",
      "     80     26.666666666666668\n",
      "    100     37.77777777777778\n",
      "    120     48.888888888888886\n",
      "    140        60.0   \n",
      "    160     71.11111111111111\n",
      "    180     82.22222222222223\n",
      "    200     93.33333333333333\n",
      "    220     104.44444444444444\n",
      "    240     115.55555555555556\n",
      "    260     126.66666666666667\n",
      "    280     137.77777777777777\n"
     ]
    }
   ],
   "source": [
    "def temp_conversion_table():\n",
    "\n",
    "    celsius = 0\n",
    "    print(\"{0:^12} {1:^16}\".format(\"Farenheit\", \"Celsius\"))\n",
    "\n",
    "    for fahr in range(0, 300, 20):\n",
    "        celsius = 5 * (fahr - 32) / 9\n",
    "        print(\"{0:^12}{1:^16}\".format(fahr, celsius))\n",
    "\n",
    "\n",
    "temp_conversion_table()"
   ]
  },
  {
   "cell_type": "code",
   "execution_count": null,
   "metadata": {},
   "outputs": [],
   "source": [
    "Transpose Matrix"
   ]
  },
  {
   "cell_type": "code",
   "execution_count": 136,
   "metadata": {},
   "outputs": [
    {
     "name": "stdout",
     "output_type": "stream",
     "text": [
      "[[1, 1, 1], [0, 0, 0], [1, 1, 1]]\n"
     ]
    }
   ],
   "source": [
    "def transpose_matrix(matrix):\n",
    "    for i in range(len(matrix)):\n",
    "        for j in range(i, len(matrix)):\n",
    "            matrix[i][j], matrix[j][i] = matrix[j][i], matrix[i][j]\n",
    "    return matrix\n",
    "\n",
    "\n",
    "print(transpose_matrix([[1, 0, 1], [1, 0, 1], [1, 0, 1]]))"
   ]
  },
  {
   "cell_type": "code",
   "execution_count": null,
   "metadata": {},
   "outputs": [],
   "source": []
  }
 ],
 "metadata": {
  "kernelspec": {
   "display_name": "Python 3",
   "language": "python",
   "name": "python3"
  },
  "language_info": {
   "codemirror_mode": {
    "name": "ipython",
    "version": 3
   },
   "file_extension": ".py",
   "mimetype": "text/x-python",
   "name": "python",
   "nbconvert_exporter": "python",
   "pygments_lexer": "ipython3",
   "version": "3.6.7"
  }
 },
 "nbformat": 4,
 "nbformat_minor": 2
}
